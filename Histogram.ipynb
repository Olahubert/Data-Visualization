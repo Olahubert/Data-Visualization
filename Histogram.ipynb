{
 "cells": [
  {
   "cell_type": "code",
   "execution_count": 1,
   "id": "2f10efff",
   "metadata": {},
   "outputs": [],
   "source": [
    "import pandas as pd"
   ]
  },
  {
   "cell_type": "code",
   "execution_count": 2,
   "id": "c9dadd6e",
   "metadata": {},
   "outputs": [],
   "source": [
    "Chemical_component=pd.read_csv('epi.csv')"
   ]
  },
  {
   "cell_type": "code",
   "execution_count": 3,
   "id": "babe2f9a",
   "metadata": {},
   "outputs": [
    {
     "data": {
      "text/plain": [
       "Index(['title', 'rating', 'calories', 'protein', 'fat', 'sodium', '#cakeweek',\n",
       "       '#wasteless', '22-minute meals', '3-ingredient recipes',\n",
       "       ...\n",
       "       'yellow squash', 'yogurt', 'yonkers', 'yuca', 'zucchini', 'cookbooks',\n",
       "       'leftovers', 'snack', 'snack week', 'turkey'],\n",
       "      dtype='object', length=680)"
      ]
     },
     "execution_count": 3,
     "metadata": {},
     "output_type": "execute_result"
    }
   ],
   "source": [
    "Chemical_component.columns"
   ]
  },
  {
   "cell_type": "code",
   "execution_count": 26,
   "id": "8ab66e9f",
   "metadata": {},
   "outputs": [
    {
     "data": {
      "text/html": [
       "<div>\n",
       "<style scoped>\n",
       "    .dataframe tbody tr th:only-of-type {\n",
       "        vertical-align: middle;\n",
       "    }\n",
       "\n",
       "    .dataframe tbody tr th {\n",
       "        vertical-align: top;\n",
       "    }\n",
       "\n",
       "    .dataframe thead th {\n",
       "        text-align: right;\n",
       "    }\n",
       "</style>\n",
       "<table border=\"1\" class=\"dataframe\">\n",
       "  <thead>\n",
       "    <tr style=\"text-align: right;\">\n",
       "      <th></th>\n",
       "      <th>sodium</th>\n",
       "      <th>fat</th>\n",
       "      <th>protein</th>\n",
       "      <th>calories</th>\n",
       "    </tr>\n",
       "  </thead>\n",
       "  <tbody>\n",
       "    <tr>\n",
       "      <th>0</th>\n",
       "      <td>559.0</td>\n",
       "      <td>7.0</td>\n",
       "      <td>30.0</td>\n",
       "      <td>426.0</td>\n",
       "    </tr>\n",
       "    <tr>\n",
       "      <th>1</th>\n",
       "      <td>1439.0</td>\n",
       "      <td>23.0</td>\n",
       "      <td>18.0</td>\n",
       "      <td>403.0</td>\n",
       "    </tr>\n",
       "    <tr>\n",
       "      <th>2</th>\n",
       "      <td>165.0</td>\n",
       "      <td>7.0</td>\n",
       "      <td>6.0</td>\n",
       "      <td>165.0</td>\n",
       "    </tr>\n",
       "    <tr>\n",
       "      <th>3</th>\n",
       "      <td>NaN</td>\n",
       "      <td>NaN</td>\n",
       "      <td>NaN</td>\n",
       "      <td>NaN</td>\n",
       "    </tr>\n",
       "    <tr>\n",
       "      <th>4</th>\n",
       "      <td>452.0</td>\n",
       "      <td>32.0</td>\n",
       "      <td>20.0</td>\n",
       "      <td>547.0</td>\n",
       "    </tr>\n",
       "    <tr>\n",
       "      <th>...</th>\n",
       "      <td>...</td>\n",
       "      <td>...</td>\n",
       "      <td>...</td>\n",
       "      <td>...</td>\n",
       "    </tr>\n",
       "    <tr>\n",
       "      <th>20047</th>\n",
       "      <td>64.0</td>\n",
       "      <td>2.0</td>\n",
       "      <td>2.0</td>\n",
       "      <td>28.0</td>\n",
       "    </tr>\n",
       "    <tr>\n",
       "      <th>20048</th>\n",
       "      <td>583.0</td>\n",
       "      <td>28.0</td>\n",
       "      <td>22.0</td>\n",
       "      <td>671.0</td>\n",
       "    </tr>\n",
       "    <tr>\n",
       "      <th>20049</th>\n",
       "      <td>652.0</td>\n",
       "      <td>38.0</td>\n",
       "      <td>31.0</td>\n",
       "      <td>563.0</td>\n",
       "    </tr>\n",
       "    <tr>\n",
       "      <th>20050</th>\n",
       "      <td>517.0</td>\n",
       "      <td>24.0</td>\n",
       "      <td>45.0</td>\n",
       "      <td>631.0</td>\n",
       "    </tr>\n",
       "    <tr>\n",
       "      <th>20051</th>\n",
       "      <td>3698.0</td>\n",
       "      <td>10.0</td>\n",
       "      <td>73.0</td>\n",
       "      <td>560.0</td>\n",
       "    </tr>\n",
       "  </tbody>\n",
       "</table>\n",
       "<p>20052 rows × 4 columns</p>\n",
       "</div>"
      ],
      "text/plain": [
       "       sodium   fat  protein  calories\n",
       "0       559.0   7.0     30.0     426.0\n",
       "1      1439.0  23.0     18.0     403.0\n",
       "2       165.0   7.0      6.0     165.0\n",
       "3         NaN   NaN      NaN       NaN\n",
       "4       452.0  32.0     20.0     547.0\n",
       "...       ...   ...      ...       ...\n",
       "20047    64.0   2.0      2.0      28.0\n",
       "20048   583.0  28.0     22.0     671.0\n",
       "20049   652.0  38.0     31.0     563.0\n",
       "20050   517.0  24.0     45.0     631.0\n",
       "20051  3698.0  10.0     73.0     560.0\n",
       "\n",
       "[20052 rows x 4 columns]"
      ]
     },
     "execution_count": 26,
     "metadata": {},
     "output_type": "execute_result"
    }
   ],
   "source": [
    "Chemical_component[['sodium','fat','protein','calories']]"
   ]
  },
  {
   "cell_type": "code",
   "execution_count": 27,
   "id": "d5a5a791",
   "metadata": {},
   "outputs": [],
   "source": [
    "Food_component=Chemical_component[['sodium','fat','protein','calories']]"
   ]
  },
  {
   "cell_type": "code",
   "execution_count": 28,
   "id": "f90ba00b",
   "metadata": {},
   "outputs": [
    {
     "data": {
      "text/html": [
       "<div>\n",
       "<style scoped>\n",
       "    .dataframe tbody tr th:only-of-type {\n",
       "        vertical-align: middle;\n",
       "    }\n",
       "\n",
       "    .dataframe tbody tr th {\n",
       "        vertical-align: top;\n",
       "    }\n",
       "\n",
       "    .dataframe thead th {\n",
       "        text-align: right;\n",
       "    }\n",
       "</style>\n",
       "<table border=\"1\" class=\"dataframe\">\n",
       "  <thead>\n",
       "    <tr style=\"text-align: right;\">\n",
       "      <th></th>\n",
       "      <th>sodium</th>\n",
       "      <th>fat</th>\n",
       "      <th>protein</th>\n",
       "      <th>calories</th>\n",
       "    </tr>\n",
       "  </thead>\n",
       "  <tbody>\n",
       "    <tr>\n",
       "      <th>0</th>\n",
       "      <td>559.0</td>\n",
       "      <td>7.0</td>\n",
       "      <td>30.0</td>\n",
       "      <td>426.0</td>\n",
       "    </tr>\n",
       "    <tr>\n",
       "      <th>1</th>\n",
       "      <td>1439.0</td>\n",
       "      <td>23.0</td>\n",
       "      <td>18.0</td>\n",
       "      <td>403.0</td>\n",
       "    </tr>\n",
       "    <tr>\n",
       "      <th>2</th>\n",
       "      <td>165.0</td>\n",
       "      <td>7.0</td>\n",
       "      <td>6.0</td>\n",
       "      <td>165.0</td>\n",
       "    </tr>\n",
       "    <tr>\n",
       "      <th>3</th>\n",
       "      <td>NaN</td>\n",
       "      <td>NaN</td>\n",
       "      <td>NaN</td>\n",
       "      <td>NaN</td>\n",
       "    </tr>\n",
       "    <tr>\n",
       "      <th>4</th>\n",
       "      <td>452.0</td>\n",
       "      <td>32.0</td>\n",
       "      <td>20.0</td>\n",
       "      <td>547.0</td>\n",
       "    </tr>\n",
       "    <tr>\n",
       "      <th>...</th>\n",
       "      <td>...</td>\n",
       "      <td>...</td>\n",
       "      <td>...</td>\n",
       "      <td>...</td>\n",
       "    </tr>\n",
       "    <tr>\n",
       "      <th>295</th>\n",
       "      <td>15.0</td>\n",
       "      <td>14.0</td>\n",
       "      <td>4.0</td>\n",
       "      <td>282.0</td>\n",
       "    </tr>\n",
       "    <tr>\n",
       "      <th>296</th>\n",
       "      <td>1528.0</td>\n",
       "      <td>3.0</td>\n",
       "      <td>9.0</td>\n",
       "      <td>145.0</td>\n",
       "    </tr>\n",
       "    <tr>\n",
       "      <th>297</th>\n",
       "      <td>1730.0</td>\n",
       "      <td>114.0</td>\n",
       "      <td>105.0</td>\n",
       "      <td>1630.0</td>\n",
       "    </tr>\n",
       "    <tr>\n",
       "      <th>298</th>\n",
       "      <td>656.0</td>\n",
       "      <td>19.0</td>\n",
       "      <td>12.0</td>\n",
       "      <td>392.0</td>\n",
       "    </tr>\n",
       "    <tr>\n",
       "      <th>299</th>\n",
       "      <td>202.0</td>\n",
       "      <td>23.0</td>\n",
       "      <td>10.0</td>\n",
       "      <td>500.0</td>\n",
       "    </tr>\n",
       "  </tbody>\n",
       "</table>\n",
       "<p>300 rows × 4 columns</p>\n",
       "</div>"
      ],
      "text/plain": [
       "     sodium    fat  protein  calories\n",
       "0     559.0    7.0     30.0     426.0\n",
       "1    1439.0   23.0     18.0     403.0\n",
       "2     165.0    7.0      6.0     165.0\n",
       "3       NaN    NaN      NaN       NaN\n",
       "4     452.0   32.0     20.0     547.0\n",
       "..      ...    ...      ...       ...\n",
       "295    15.0   14.0      4.0     282.0\n",
       "296  1528.0    3.0      9.0     145.0\n",
       "297  1730.0  114.0    105.0    1630.0\n",
       "298   656.0   19.0     12.0     392.0\n",
       "299   202.0   23.0     10.0     500.0\n",
       "\n",
       "[300 rows x 4 columns]"
      ]
     },
     "execution_count": 28,
     "metadata": {},
     "output_type": "execute_result"
    }
   ],
   "source": [
    "Food_component.head(300)"
   ]
  },
  {
   "cell_type": "code",
   "execution_count": 29,
   "id": "bef63fb3",
   "metadata": {},
   "outputs": [],
   "source": [
    "Food_component=Food_component.head(300)"
   ]
  },
  {
   "cell_type": "code",
   "execution_count": 30,
   "id": "75f7bd6d",
   "metadata": {},
   "outputs": [
    {
     "data": {
      "text/html": [
       "<div>\n",
       "<style scoped>\n",
       "    .dataframe tbody tr th:only-of-type {\n",
       "        vertical-align: middle;\n",
       "    }\n",
       "\n",
       "    .dataframe tbody tr th {\n",
       "        vertical-align: top;\n",
       "    }\n",
       "\n",
       "    .dataframe thead th {\n",
       "        text-align: right;\n",
       "    }\n",
       "</style>\n",
       "<table border=\"1\" class=\"dataframe\">\n",
       "  <thead>\n",
       "    <tr style=\"text-align: right;\">\n",
       "      <th></th>\n",
       "      <th>sodium</th>\n",
       "      <th>fat</th>\n",
       "      <th>protein</th>\n",
       "      <th>calories</th>\n",
       "    </tr>\n",
       "  </thead>\n",
       "  <tbody>\n",
       "    <tr>\n",
       "      <th>0</th>\n",
       "      <td>559.0</td>\n",
       "      <td>7.0</td>\n",
       "      <td>30.0</td>\n",
       "      <td>426.0</td>\n",
       "    </tr>\n",
       "    <tr>\n",
       "      <th>1</th>\n",
       "      <td>1439.0</td>\n",
       "      <td>23.0</td>\n",
       "      <td>18.0</td>\n",
       "      <td>403.0</td>\n",
       "    </tr>\n",
       "    <tr>\n",
       "      <th>2</th>\n",
       "      <td>165.0</td>\n",
       "      <td>7.0</td>\n",
       "      <td>6.0</td>\n",
       "      <td>165.0</td>\n",
       "    </tr>\n",
       "    <tr>\n",
       "      <th>3</th>\n",
       "      <td>NaN</td>\n",
       "      <td>NaN</td>\n",
       "      <td>NaN</td>\n",
       "      <td>NaN</td>\n",
       "    </tr>\n",
       "    <tr>\n",
       "      <th>4</th>\n",
       "      <td>452.0</td>\n",
       "      <td>32.0</td>\n",
       "      <td>20.0</td>\n",
       "      <td>547.0</td>\n",
       "    </tr>\n",
       "    <tr>\n",
       "      <th>...</th>\n",
       "      <td>...</td>\n",
       "      <td>...</td>\n",
       "      <td>...</td>\n",
       "      <td>...</td>\n",
       "    </tr>\n",
       "    <tr>\n",
       "      <th>295</th>\n",
       "      <td>15.0</td>\n",
       "      <td>14.0</td>\n",
       "      <td>4.0</td>\n",
       "      <td>282.0</td>\n",
       "    </tr>\n",
       "    <tr>\n",
       "      <th>296</th>\n",
       "      <td>1528.0</td>\n",
       "      <td>3.0</td>\n",
       "      <td>9.0</td>\n",
       "      <td>145.0</td>\n",
       "    </tr>\n",
       "    <tr>\n",
       "      <th>297</th>\n",
       "      <td>1730.0</td>\n",
       "      <td>114.0</td>\n",
       "      <td>105.0</td>\n",
       "      <td>1630.0</td>\n",
       "    </tr>\n",
       "    <tr>\n",
       "      <th>298</th>\n",
       "      <td>656.0</td>\n",
       "      <td>19.0</td>\n",
       "      <td>12.0</td>\n",
       "      <td>392.0</td>\n",
       "    </tr>\n",
       "    <tr>\n",
       "      <th>299</th>\n",
       "      <td>202.0</td>\n",
       "      <td>23.0</td>\n",
       "      <td>10.0</td>\n",
       "      <td>500.0</td>\n",
       "    </tr>\n",
       "  </tbody>\n",
       "</table>\n",
       "<p>300 rows × 4 columns</p>\n",
       "</div>"
      ],
      "text/plain": [
       "     sodium    fat  protein  calories\n",
       "0     559.0    7.0     30.0     426.0\n",
       "1    1439.0   23.0     18.0     403.0\n",
       "2     165.0    7.0      6.0     165.0\n",
       "3       NaN    NaN      NaN       NaN\n",
       "4     452.0   32.0     20.0     547.0\n",
       "..      ...    ...      ...       ...\n",
       "295    15.0   14.0      4.0     282.0\n",
       "296  1528.0    3.0      9.0     145.0\n",
       "297  1730.0  114.0    105.0    1630.0\n",
       "298   656.0   19.0     12.0     392.0\n",
       "299   202.0   23.0     10.0     500.0\n",
       "\n",
       "[300 rows x 4 columns]"
      ]
     },
     "execution_count": 30,
     "metadata": {},
     "output_type": "execute_result"
    }
   ],
   "source": [
    "Food_component"
   ]
  },
  {
   "cell_type": "code",
   "execution_count": 31,
   "id": "937f7beb",
   "metadata": {},
   "outputs": [],
   "source": [
    "Food_component.to_csv('Food_component.csv')"
   ]
  },
  {
   "cell_type": "code",
   "execution_count": 35,
   "id": "0259b889",
   "metadata": {},
   "outputs": [],
   "source": [
    "Food_component.to_excel('Food_2.xlsx')"
   ]
  },
  {
   "cell_type": "code",
   "execution_count": 4,
   "id": "1161bd84",
   "metadata": {},
   "outputs": [
    {
     "data": {
      "text/plain": [
       "0         559.0\n",
       "1        1439.0\n",
       "2         165.0\n",
       "3           NaN\n",
       "4         452.0\n",
       "          ...  \n",
       "20047      64.0\n",
       "20048     583.0\n",
       "20049     652.0\n",
       "20050     517.0\n",
       "20051    3698.0\n",
       "Name: sodium, Length: 20052, dtype: float64"
      ]
     },
     "execution_count": 4,
     "metadata": {},
     "output_type": "execute_result"
    }
   ],
   "source": [
    "Chemical_component['sodium']"
   ]
  },
  {
   "cell_type": "code",
   "execution_count": 5,
   "id": "6eaac9bd",
   "metadata": {},
   "outputs": [],
   "source": [
    "Sodium=Chemical_component['sodium']"
   ]
  },
  {
   "cell_type": "code",
   "execution_count": 6,
   "id": "178c6961",
   "metadata": {},
   "outputs": [],
   "source": [
    "import matplotlib.pyplot as plt\n",
    "import numpy as np"
   ]
  },
  {
   "cell_type": "code",
   "execution_count": 7,
   "id": "0987b51b",
   "metadata": {},
   "outputs": [
    {
     "data": {
      "image/png": "[encoded data removed]",
      "text/plain": [
       "<Figure size 640x480 with 1 Axes>"
      ]
     },
     "metadata": {},
     "output_type": "display_data"
    }
   ],
   "source": [
    " plt.hist(Sodium, bins = 10)\n",
    " plt.show()"
   ]
  },
  {
   "cell_type": "code",
   "execution_count": 8,
   "id": "27a958a4",
   "metadata": {},
   "outputs": [],
   "source": [
    "Sample_A=Sodium.head(50)"
   ]
  },
  {
   "cell_type": "code",
   "execution_count": 9,
   "id": "cb0e01ab",
   "metadata": {},
   "outputs": [
    {
     "data": {
      "image/png": "[encoded data removed]",
      "text/plain": [
       "<Figure size 640x480 with 1 Axes>"
      ]
     },
     "metadata": {},
     "output_type": "display_data"
    }
   ],
   "source": [
    "plt.hist(Sample_A, bins = 15)\n",
    "plt.show()"
   ]
  },
  {
   "cell_type": "code",
   "execution_count": 12,
   "id": "6265237c",
   "metadata": {},
   "outputs": [
    {
     "data": {
      "text/plain": [
       "0        30.0\n",
       "1        18.0\n",
       "2         6.0\n",
       "3         NaN\n",
       "4        20.0\n",
       "         ... \n",
       "20047     2.0\n",
       "20048    22.0\n",
       "20049    31.0\n",
       "20050    45.0\n",
       "20051    73.0\n",
       "Name: protein, Length: 20052, dtype: float64"
      ]
     },
     "execution_count": 12,
     "metadata": {},
     "output_type": "execute_result"
    }
   ],
   "source": [
    "Chemical_component[\"protein\"]"
   ]
  },
  {
   "cell_type": "code",
   "execution_count": 13,
   "id": "8c305ffc",
   "metadata": {},
   "outputs": [],
   "source": [
    "Protein=Chemical_component[\"protein\"]"
   ]
  },
  {
   "cell_type": "code",
   "execution_count": 14,
   "id": "0386e00d",
   "metadata": {},
   "outputs": [
    {
     "data": {
      "text/plain": [
       "0     30.0\n",
       "1     18.0\n",
       "2      6.0\n",
       "3      NaN\n",
       "4     20.0\n",
       "5     19.0\n",
       "6      NaN\n",
       "7      NaN\n",
       "8      7.0\n",
       "9     23.0\n",
       "10     4.0\n",
       "11     NaN\n",
       "12    12.0\n",
       "13    11.0\n",
       "14     4.0\n",
       "15     5.0\n",
       "16     4.0\n",
       "17    59.0\n",
       "18     5.0\n",
       "19    10.0\n",
       "Name: protein, dtype: float64"
      ]
     },
     "execution_count": 14,
     "metadata": {},
     "output_type": "execute_result"
    }
   ],
   "source": [
    "Protein.head(20)"
   ]
  },
  {
   "cell_type": "code",
   "execution_count": 15,
   "id": "9bea910b",
   "metadata": {},
   "outputs": [],
   "source": [
    "Sample_pro=Protein.head(20)"
   ]
  },
  {
   "cell_type": "code",
   "execution_count": 17,
   "id": "1042a885",
   "metadata": {},
   "outputs": [
    {
     "data": {
      "text/plain": [
       "0     30.0\n",
       "1     18.0\n",
       "2      6.0\n",
       "4     20.0\n",
       "5     19.0\n",
       "8      7.0\n",
       "9     23.0\n",
       "10     4.0\n",
       "12    12.0\n",
       "13    11.0\n",
       "14     4.0\n",
       "15     5.0\n",
       "16     4.0\n",
       "17    59.0\n",
       "18     5.0\n",
       "19    10.0\n",
       "Name: protein, dtype: float64"
      ]
     },
     "execution_count": 17,
     "metadata": {},
     "output_type": "execute_result"
    }
   ],
   "source": [
    "Sample_pro.dropna()"
   ]
  },
  {
   "cell_type": "code",
   "execution_count": 19,
   "id": "681518d8",
   "metadata": {},
   "outputs": [],
   "source": [
    "Sample_pro=Sample_pro.dropna()"
   ]
  },
  {
   "cell_type": "code",
   "execution_count": 20,
   "id": "fa648fac",
   "metadata": {},
   "outputs": [
    {
     "data": {
      "image/png": "[encoded data removed]",
      "text/plain": [
       "<Figure size 640x480 with 1 Axes>"
      ]
     },
     "metadata": {},
     "output_type": "display_data"
    }
   ],
   "source": [
    "plt.boxplot(Sample_pro)\n",
    "plt.show()"
   ]
  },
  {
   "cell_type": "code",
   "execution_count": 23,
   "id": "91c387cc",
   "metadata": {},
   "outputs": [
    {
     "data": {
      "image/png": "[encoded data removed]",
      "text/plain": [
       "<Figure size 640x480 with 1 Axes>"
      ]
     },
     "metadata": {},
     "output_type": "display_data"
    }
   ],
   "source": [
    "plt.hist(Sample_pro,color=\"red\", bins = 15)\n",
    "plt.show()"
   ]
  },
  {
   "cell_type": "code",
   "execution_count": null,
   "id": "2e9f602e",
   "metadata": {},
   "outputs": [],
   "source": []
  }
 ],
 "metadata": {
  "kernelspec": {
   "display_name": "Python 3 (ipykernel)",
   "language": "python",
   "name": "python3"
  },
  "language_info": {
   "codemirror_mode": {
    "name": "ipython",
    "version": 3
   },
   "file_extension": ".py",
   "mimetype": "text/x-python",
   "name": "python",
   "nbconvert_exporter": "python",
   "pygments_lexer": "ipython3",
   "version": "3.11.5"
  }
 },
 "nbformat": 4,
 "nbformat_minor": 5
}
